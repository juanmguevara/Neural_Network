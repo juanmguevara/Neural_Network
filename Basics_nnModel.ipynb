{
 "cells": [
  {
   "cell_type": "code",
   "execution_count": 1,
   "metadata": {},
   "outputs": [],
   "source": [
    "# Import our dependencies\n",
    "import pandas as pd\n",
    "import matplotlib as plt\n",
    "from sklearn.datasets import make_blobs\n",
    "import sklearn as skl\n",
    "import tensorflow as tf"
   ]
  },
  {
   "cell_type": "code",
   "execution_count": 2,
   "metadata": {},
   "outputs": [
    {
     "data": {
      "text/plain": [
       "<matplotlib.axes._subplots.AxesSubplot at 0x2b1aa8c6308>"
      ]
     },
     "execution_count": 2,
     "metadata": {},
     "output_type": "execute_result"
    },
    {
     "data": {
      "image/png": "[encoded data removed]",
      "text/plain": [
       "<Figure size 432x288 with 2 Axes>"
      ]
     },
     "metadata": {
      "needs_background": "light"
     },
     "output_type": "display_data"
    }
   ],
   "source": [
    "# Generate dummy dataset\n",
    "X, y = make_blobs(n_samples=1000, centers=2, n_features=2, random_state=78)\n",
    "\n",
    "# Creating a DataFrame with the dummy data\n",
    "df = pd.DataFrame(X, columns=[\"Feature 1\", \"Feature 2\"])\n",
    "df[\"Target\"] = y\n",
    "\n",
    "# Plotting the dummy data\n",
    "df.plot.scatter(x=\"Feature 1\", y=\"Feature 2\", c=\"Target\", colormap=\"winter\")"
   ]
  },
  {
   "cell_type": "code",
   "execution_count": 3,
   "metadata": {},
   "outputs": [],
   "source": [
    "# Use sklearn to split dataset\n",
    "from sklearn.model_selection import train_test_split\n",
    "X_train, X_test, y_train, y_test = train_test_split(X, y, random_state=78)"
   ]
  },
  {
   "cell_type": "code",
   "execution_count": 4,
   "metadata": {},
   "outputs": [],
   "source": [
    "# Create scaler instance\n",
    "X_scaler = skl.preprocessing.StandardScaler()\n",
    "\n",
    "# Fit the scaler\n",
    "X_scaler.fit(X_train)\n",
    "\n",
    "# Scale the data\n",
    "X_train_scaled = X_scaler.transform(X_train)\n",
    "X_test_scaled = X_scaler.transform(X_test)"
   ]
  },
  {
   "cell_type": "code",
   "execution_count": 5,
   "metadata": {},
   "outputs": [],
   "source": [
    "# Create the Keras Sequential model\n",
    "nn_model = tf.keras.models.Sequential()"
   ]
  },
  {
   "cell_type": "code",
   "execution_count": 6,
   "metadata": {},
   "outputs": [],
   "source": [
    "# Add our first Dense layer, including the input layer\n",
    "nn_model.add(tf.keras.layers.Dense(units=1, activation=\"relu\", input_dim=2))"
   ]
  },
  {
   "cell_type": "code",
   "execution_count": 7,
   "metadata": {},
   "outputs": [],
   "source": [
    "# Add the output layer that uses a probability activation function\n",
    "nn_model.add(tf.keras.layers.Dense(units=1, activation=\"sigmoid\"))"
   ]
  },
  {
   "cell_type": "code",
   "execution_count": 8,
   "metadata": {},
   "outputs": [
    {
     "name": "stdout",
     "output_type": "stream",
     "text": [
      "Model: \"sequential\"\n",
      "_________________________________________________________________\n",
      "Layer (type)                 Output Shape              Param #   \n",
      "=================================================================\n",
      "dense (Dense)                (None, 1)                 3         \n",
      "_________________________________________________________________\n",
      "dense_1 (Dense)              (None, 1)                 2         \n",
      "=================================================================\n",
      "Total params: 5\n",
      "Trainable params: 5\n",
      "Non-trainable params: 0\n",
      "_________________________________________________________________\n"
     ]
    }
   ],
   "source": [
    "# Check the structure of the Sequential model\n",
    "nn_model.summary()"
   ]
  },
  {
   "cell_type": "code",
   "execution_count": 9,
   "metadata": {},
   "outputs": [],
   "source": [
    "# Compile the Sequential model together and customize metrics\n",
    "nn_model.compile(loss=\"binary_crossentropy\", optimizer=\"adam\", metrics=[\"accuracy\"])"
   ]
  },
  {
   "cell_type": "code",
   "execution_count": 10,
   "metadata": {},
   "outputs": [
    {
     "name": "stdout",
     "output_type": "stream",
     "text": [
      "Train on 750 samples\n",
      "Epoch 1/100\n",
      "750/750 [==============================] - 3s 4ms/sample - loss: 0.4465 - accuracy: 0.9453\n",
      "Epoch 2/100\n",
      "750/750 [==============================] - 0s 28us/sample - loss: 0.4358 - accuracy: 0.9667\n",
      "Epoch 3/100\n",
      "750/750 [==============================] - 0s 29us/sample - loss: 0.4255 - accuracy: 0.9680\n",
      "Epoch 4/100\n",
      "750/750 [==============================] - 0s 28us/sample - loss: 0.4154 - accuracy: 0.9680\n",
      "Epoch 5/100\n",
      "750/750 [==============================] - 0s 29us/sample - loss: 0.4058 - accuracy: 0.9693\n",
      "Epoch 6/100\n",
      "750/750 [==============================] - 0s 27us/sample - loss: 0.3964 - accuracy: 0.9720\n",
      "Epoch 7/100\n",
      "750/750 [==============================] - 0s 28us/sample - loss: 0.3873 - accuracy: 0.9733\n",
      "Epoch 8/100\n",
      "750/750 [==============================] - 0s 27us/sample - loss: 0.3785 - accuracy: 0.9747\n",
      "Epoch 9/100\n",
      "750/750 [==============================] - 0s 25us/sample - loss: 0.3701 - accuracy: 0.9760\n",
      "Epoch 10/100\n",
      "750/750 [==============================] - 0s 25us/sample - loss: 0.3618 - accuracy: 0.9760\n",
      "Epoch 11/100\n",
      "750/750 [==============================] - 0s 27us/sample - loss: 0.3537 - accuracy: 0.9787\n",
      "Epoch 12/100\n",
      "750/750 [==============================] - 0s 26us/sample - loss: 0.3459 - accuracy: 0.9800\n",
      "Epoch 13/100\n",
      "750/750 [==============================] - 0s 27us/sample - loss: 0.3381 - accuracy: 0.9800\n",
      "Epoch 14/100\n",
      "750/750 [==============================] - 0s 25us/sample - loss: 0.3306 - accuracy: 0.9800\n",
      "Epoch 15/100\n",
      "750/750 [==============================] - 0s 27us/sample - loss: 0.3232 - accuracy: 0.9827\n",
      "Epoch 16/100\n",
      "750/750 [==============================] - 0s 25us/sample - loss: 0.3162 - accuracy: 0.9840\n",
      "Epoch 17/100\n",
      "750/750 [==============================] - 0s 28us/sample - loss: 0.3092 - accuracy: 0.9867\n",
      "Epoch 18/100\n",
      "750/750 [==============================] - 0s 27us/sample - loss: 0.3025 - accuracy: 0.9880\n",
      "Epoch 19/100\n",
      "750/750 [==============================] - 0s 27us/sample - loss: 0.2960 - accuracy: 0.9893\n",
      "Epoch 20/100\n",
      "750/750 [==============================] - 0s 27us/sample - loss: 0.2897 - accuracy: 0.9893\n",
      "Epoch 21/100\n",
      "750/750 [==============================] - 0s 26us/sample - loss: 0.2835 - accuracy: 0.9907\n",
      "Epoch 22/100\n",
      "750/750 [==============================] - 0s 28us/sample - loss: 0.2774 - accuracy: 0.9920\n",
      "Epoch 23/100\n",
      "750/750 [==============================] - 0s 36us/sample - loss: 0.2715 - accuracy: 0.9920\n",
      "Epoch 24/100\n",
      "750/750 [==============================] - 0s 29us/sample - loss: 0.2658 - accuracy: 0.9933\n",
      "Epoch 25/100\n",
      "750/750 [==============================] - 0s 25us/sample - loss: 0.2602 - accuracy: 0.9933\n",
      "Epoch 26/100\n",
      "750/750 [==============================] - 0s 27us/sample - loss: 0.2548 - accuracy: 0.9933\n",
      "Epoch 27/100\n",
      "750/750 [==============================] - 0s 26us/sample - loss: 0.2494 - accuracy: 0.9933\n",
      "Epoch 28/100\n",
      "750/750 [==============================] - 0s 25us/sample - loss: 0.2443 - accuracy: 0.9933\n",
      "Epoch 29/100\n",
      "750/750 [==============================] - 0s 25us/sample - loss: 0.2392 - accuracy: 0.9947\n",
      "Epoch 30/100\n",
      "750/750 [==============================] - 0s 25us/sample - loss: 0.2344 - accuracy: 0.9947\n",
      "Epoch 31/100\n",
      "750/750 [==============================] - 0s 25us/sample - loss: 0.2296 - accuracy: 0.9960\n",
      "Epoch 32/100\n",
      "750/750 [==============================] - 0s 27us/sample - loss: 0.2250 - accuracy: 0.9960\n",
      "Epoch 33/100\n",
      "750/750 [==============================] - 0s 24us/sample - loss: 0.2205 - accuracy: 0.9960\n",
      "Epoch 34/100\n",
      "750/750 [==============================] - 0s 25us/sample - loss: 0.2161 - accuracy: 0.9960\n",
      "Epoch 35/100\n",
      "750/750 [==============================] - 0s 24us/sample - loss: 0.2119 - accuracy: 0.9960\n",
      "Epoch 36/100\n",
      "750/750 [==============================] - 0s 26us/sample - loss: 0.2078 - accuracy: 0.9960\n",
      "Epoch 37/100\n",
      "750/750 [==============================] - 0s 28us/sample - loss: 0.2038 - accuracy: 0.9960\n",
      "Epoch 38/100\n",
      "750/750 [==============================] - 0s 25us/sample - loss: 0.1998 - accuracy: 0.9960\n",
      "Epoch 39/100\n",
      "750/750 [==============================] - 0s 25us/sample - loss: 0.1960 - accuracy: 0.9960\n",
      "Epoch 40/100\n",
      "750/750 [==============================] - 0s 27us/sample - loss: 0.1922 - accuracy: 0.9960\n",
      "Epoch 41/100\n",
      "750/750 [==============================] - 0s 27us/sample - loss: 0.1886 - accuracy: 0.9960\n",
      "Epoch 42/100\n",
      "750/750 [==============================] - 0s 27us/sample - loss: 0.1850 - accuracy: 0.9960\n",
      "Epoch 43/100\n",
      "750/750 [==============================] - 0s 25us/sample - loss: 0.1815 - accuracy: 0.9960\n",
      "Epoch 44/100\n",
      "750/750 [==============================] - 0s 27us/sample - loss: 0.1781 - accuracy: 0.9960\n",
      "Epoch 45/100\n",
      "750/750 [==============================] - 0s 26us/sample - loss: 0.1748 - accuracy: 0.9960\n",
      "Epoch 46/100\n",
      "750/750 [==============================] - 0s 25us/sample - loss: 0.1716 - accuracy: 0.9960\n",
      "Epoch 47/100\n",
      "750/750 [==============================] - 0s 27us/sample - loss: 0.1685 - accuracy: 0.9960\n",
      "Epoch 48/100\n",
      "750/750 [==============================] - 0s 27us/sample - loss: 0.1654 - accuracy: 0.9960\n",
      "Epoch 49/100\n",
      "750/750 [==============================] - 0s 25us/sample - loss: 0.1624 - accuracy: 0.9960\n",
      "Epoch 50/100\n",
      "750/750 [==============================] - 0s 27us/sample - loss: 0.1596 - accuracy: 0.9960\n",
      "Epoch 51/100\n",
      "750/750 [==============================] - 0s 27us/sample - loss: 0.1567 - accuracy: 0.9960\n",
      "Epoch 52/100\n",
      "750/750 [==============================] - 0s 25us/sample - loss: 0.1540 - accuracy: 0.9960\n",
      "Epoch 53/100\n",
      "750/750 [==============================] - 0s 28us/sample - loss: 0.1513 - accuracy: 0.9960\n",
      "Epoch 54/100\n",
      "750/750 [==============================] - 0s 28us/sample - loss: 0.1487 - accuracy: 0.9973\n",
      "Epoch 55/100\n",
      "750/750 [==============================] - 0s 24us/sample - loss: 0.1461 - accuracy: 0.9987\n",
      "Epoch 56/100\n",
      "750/750 [==============================] - 0s 24us/sample - loss: 0.1436 - accuracy: 0.9987\n",
      "Epoch 57/100\n",
      "750/750 [==============================] - 0s 25us/sample - loss: 0.1411 - accuracy: 1.0000\n",
      "Epoch 58/100\n",
      "750/750 [==============================] - 0s 25us/sample - loss: 0.1387 - accuracy: 1.0000\n",
      "Epoch 59/100\n",
      "750/750 [==============================] - 0s 25us/sample - loss: 0.1364 - accuracy: 1.0000\n",
      "Epoch 60/100\n",
      "750/750 [==============================] - 0s 25us/sample - loss: 0.1341 - accuracy: 1.0000\n",
      "Epoch 61/100\n",
      "750/750 [==============================] - 0s 24us/sample - loss: 0.1319 - accuracy: 1.0000\n",
      "Epoch 62/100\n",
      "750/750 [==============================] - 0s 25us/sample - loss: 0.1297 - accuracy: 1.0000\n",
      "Epoch 63/100\n",
      "750/750 [==============================] - 0s 27us/sample - loss: 0.1275 - accuracy: 1.0000\n",
      "Epoch 64/100\n",
      "750/750 [==============================] - 0s 27us/sample - loss: 0.1254 - accuracy: 1.0000\n",
      "Epoch 65/100\n",
      "750/750 [==============================] - 0s 25us/sample - loss: 0.1234 - accuracy: 1.0000\n",
      "Epoch 66/100\n",
      "750/750 [==============================] - 0s 24us/sample - loss: 0.1213 - accuracy: 1.0000\n",
      "Epoch 67/100\n",
      "750/750 [==============================] - 0s 27us/sample - loss: 0.1194 - accuracy: 1.0000\n",
      "Epoch 68/100\n",
      "750/750 [==============================] - 0s 25us/sample - loss: 0.1174 - accuracy: 1.0000\n",
      "Epoch 69/100\n",
      "750/750 [==============================] - 0s 25us/sample - loss: 0.1155 - accuracy: 1.0000\n",
      "Epoch 70/100\n",
      "750/750 [==============================] - 0s 25us/sample - loss: 0.1137 - accuracy: 1.0000\n",
      "Epoch 71/100\n",
      "750/750 [==============================] - 0s 25us/sample - loss: 0.1119 - accuracy: 1.0000\n",
      "Epoch 72/100\n",
      "750/750 [==============================] - 0s 24us/sample - loss: 0.1101 - accuracy: 1.0000\n",
      "Epoch 73/100\n",
      "750/750 [==============================] - 0s 28us/sample - loss: 0.1084 - accuracy: 1.0000\n",
      "Epoch 74/100\n",
      "750/750 [==============================] - 0s 33us/sample - loss: 0.1067 - accuracy: 1.0000\n",
      "Epoch 75/100\n",
      "750/750 [==============================] - 0s 31us/sample - loss: 0.1050 - accuracy: 1.0000\n",
      "Epoch 76/100\n",
      "750/750 [==============================] - 0s 28us/sample - loss: 0.1034 - accuracy: 1.0000\n",
      "Epoch 77/100\n",
      "750/750 [==============================] - 0s 27us/sample - loss: 0.1017 - accuracy: 1.0000\n",
      "Epoch 78/100\n"
     ]
    },
    {
     "name": "stdout",
     "output_type": "stream",
     "text": [
      "750/750 [==============================] - 0s 25us/sample - loss: 0.1002 - accuracy: 1.0000\n",
      "Epoch 79/100\n",
      "750/750 [==============================] - 0s 25us/sample - loss: 0.0986 - accuracy: 1.0000\n",
      "Epoch 80/100\n",
      "750/750 [==============================] - 0s 27us/sample - loss: 0.0971 - accuracy: 1.0000\n",
      "Epoch 81/100\n",
      "750/750 [==============================] - 0s 25us/sample - loss: 0.0957 - accuracy: 1.0000\n",
      "Epoch 82/100\n",
      "750/750 [==============================] - 0s 27us/sample - loss: 0.0942 - accuracy: 1.0000\n",
      "Epoch 83/100\n",
      "750/750 [==============================] - 0s 28us/sample - loss: 0.0928 - accuracy: 1.0000\n",
      "Epoch 84/100\n",
      "750/750 [==============================] - 0s 25us/sample - loss: 0.0914 - accuracy: 1.0000\n",
      "Epoch 85/100\n",
      "750/750 [==============================] - 0s 24us/sample - loss: 0.0900 - accuracy: 1.0000\n",
      "Epoch 86/100\n",
      "750/750 [==============================] - 0s 25us/sample - loss: 0.0887 - accuracy: 1.0000\n",
      "Epoch 87/100\n",
      "750/750 [==============================] - 0s 24us/sample - loss: 0.0874 - accuracy: 1.0000\n",
      "Epoch 88/100\n",
      "750/750 [==============================] - 0s 25us/sample - loss: 0.0861 - accuracy: 1.0000\n",
      "Epoch 89/100\n",
      "750/750 [==============================] - 0s 25us/sample - loss: 0.0848 - accuracy: 1.0000\n",
      "Epoch 90/100\n",
      "750/750 [==============================] - 0s 25us/sample - loss: 0.0836 - accuracy: 1.0000\n",
      "Epoch 91/100\n",
      "750/750 [==============================] - 0s 24us/sample - loss: 0.0823 - accuracy: 1.0000\n",
      "Epoch 92/100\n",
      "750/750 [==============================] - 0s 25us/sample - loss: 0.0811 - accuracy: 1.0000\n",
      "Epoch 93/100\n",
      "750/750 [==============================] - 0s 24us/sample - loss: 0.0800 - accuracy: 1.0000\n",
      "Epoch 94/100\n",
      "750/750 [==============================] - 0s 25us/sample - loss: 0.0788 - accuracy: 1.0000\n",
      "Epoch 95/100\n",
      "750/750 [==============================] - 0s 24us/sample - loss: 0.0777 - accuracy: 1.0000\n",
      "Epoch 96/100\n",
      "750/750 [==============================] - 0s 27us/sample - loss: 0.0765 - accuracy: 1.0000\n",
      "Epoch 97/100\n",
      "750/750 [==============================] - 0s 25us/sample - loss: 0.0755 - accuracy: 1.0000\n",
      "Epoch 98/100\n",
      "750/750 [==============================] - 0s 25us/sample - loss: 0.0744 - accuracy: 1.0000\n",
      "Epoch 99/100\n",
      "750/750 [==============================] - 0s 25us/sample - loss: 0.0734 - accuracy: 1.0000\n",
      "Epoch 100/100\n",
      "750/750 [==============================] - 0s 25us/sample - loss: 0.0723 - accuracy: 1.0000\n"
     ]
    }
   ],
   "source": [
    "# Fit the model to the training data\n",
    "fit_model = nn_model.fit(X_train_scaled, y_train, epochs=100)"
   ]
  },
  {
   "cell_type": "code",
   "execution_count": 11,
   "metadata": {},
   "outputs": [
    {
     "data": {
      "text/plain": [
       "<matplotlib.axes._subplots.AxesSubplot at 0x2b1acb10c88>"
      ]
     },
     "execution_count": 11,
     "metadata": {},
     "output_type": "execute_result"
    },
    {
     "data": {
      "image/png": "[encoded data removed]",
      "text/plain": [
       "<Figure size 432x288 with 1 Axes>"
      ]
     },
     "metadata": {
      "needs_background": "light"
     },
     "output_type": "display_data"
    }
   ],
   "source": [
    "# Create a DataFrame containing training history\n",
    "history_df = pd.DataFrame(fit_model.history, index=range(1,len(fit_model.history[\"loss\"])+1))\n",
    "\n",
    "# Plot the loss\n",
    "history_df.plot(y=\"loss\")"
   ]
  },
  {
   "cell_type": "code",
   "execution_count": 12,
   "metadata": {},
   "outputs": [
    {
     "data": {
      "text/plain": [
       "<matplotlib.axes._subplots.AxesSubplot at 0x2b1acba4688>"
      ]
     },
     "execution_count": 12,
     "metadata": {},
     "output_type": "execute_result"
    },
    {
     "data": {
      "image/png": "[encoded data removed]",
      "text/plain": [
       "<Figure size 432x288 with 1 Axes>"
      ]
     },
     "metadata": {
      "needs_background": "light"
     },
     "output_type": "display_data"
    }
   ],
   "source": [
    "# Plot the accuracy\n",
    "history_df.plot(y=\"accuracy\")"
   ]
  },
  {
   "cell_type": "code",
   "execution_count": 13,
   "metadata": {},
   "outputs": [
    {
     "name": "stdout",
     "output_type": "stream",
     "text": [
      "250/250 - 0s - loss: 0.0743 - accuracy: 1.0000\n",
      "Loss: 0.07433499377965927, Accuracy: 1.0\n"
     ]
    }
   ],
   "source": [
    "# Evaluate the model using the test data\n",
    "model_loss, model_accuracy = nn_model.evaluate(X_test_scaled,y_test,verbose=2)\n",
    "print(f\"Loss: {model_loss}, Accuracy: {model_accuracy}\")"
   ]
  },
  {
   "cell_type": "code",
   "execution_count": 14,
   "metadata": {},
   "outputs": [
    {
     "data": {
      "text/plain": [
       "array([[0],\n",
       "       [1],\n",
       "       [0],\n",
       "       [1],\n",
       "       [0],\n",
       "       [0],\n",
       "       [1],\n",
       "       [1],\n",
       "       [1],\n",
       "       [0]])"
      ]
     },
     "execution_count": 14,
     "metadata": {},
     "output_type": "execute_result"
    }
   ],
   "source": [
    "# Predict the classification of a new set of blob data\n",
    "new_X, new_Y = make_blobs(n_samples=10, centers=2, n_features=2, random_state=78)\n",
    "new_X_scaled = X_scaler.transform(new_X)\n",
    "nn_model.predict_classes(new_X_scaled)"
   ]
  },
  {
   "cell_type": "code",
   "execution_count": 15,
   "metadata": {},
   "outputs": [
    {
     "data": {
      "text/plain": [
       "<matplotlib.axes._subplots.AxesSubplot at 0x2b1acc19488>"
      ]
     },
     "execution_count": 15,
     "metadata": {},
     "output_type": "execute_result"
    },
    {
     "data": {
      "image/png": "[encoded data removed]",
      "text/plain": [
       "<Figure size 432x288 with 2 Axes>"
      ]
     },
     "metadata": {
      "needs_background": "light"
     },
     "output_type": "display_data"
    }
   ],
   "source": [
    "from sklearn.datasets import make_moons\n",
    "\n",
    "# Creating dummy nonlinear data\n",
    "X_moons, y_moons = make_moons(n_samples=1000, noise=0.08, random_state=78)\n",
    "\n",
    "# Transforming y_moons to a vertical vector\n",
    "y_moons = y_moons.reshape(-1, 1)\n",
    "\n",
    "# Creating a DataFrame to plot the nonlinear dummy data\n",
    "df_moons = pd.DataFrame(X_moons, columns=[\"Feature 1\", \"Feature 2\"])\n",
    "df_moons[\"Target\"] = y_moons\n",
    "\n",
    "# Plot the nonlinear dummy data\n",
    "df_moons.plot.scatter(x=\"Feature 1\",y=\"Feature 2\", c=\"Target\",colormap=\"winter\")"
   ]
  },
  {
   "cell_type": "code",
   "execution_count": 16,
   "metadata": {},
   "outputs": [],
   "source": [
    "# Create training and testing sets\n",
    "X_moon_train, X_moon_test, y_moon_train, y_moon_test = train_test_split(\n",
    "    X_moons, y_moons, random_state=78\n",
    ")\n",
    "\n",
    "# Create the scaler instance\n",
    "X_moon_scaler = skl.preprocessing.StandardScaler()\n",
    "\n",
    "# Fit the scaler\n",
    "X_moon_scaler.fit(X_moon_train)\n",
    "\n",
    "# Scale the data\n",
    "X_moon_train_scaled = X_moon_scaler.transform(X_moon_train)\n",
    "X_moon_test_scaled = X_moon_scaler.transform(X_moon_test)"
   ]
  },
  {
   "cell_type": "code",
   "execution_count": 17,
   "metadata": {},
   "outputs": [
    {
     "name": "stdout",
     "output_type": "stream",
     "text": [
      "Train on 750 samples\n",
      "Epoch 1/100\n",
      "750/750 [==============================] - 0s 359us/sample - loss: 1.1754 - accuracy: 0.4800\n",
      "Epoch 2/100\n",
      "750/750 [==============================] - 0s 28us/sample - loss: 1.0242 - accuracy: 0.5067\n",
      "Epoch 3/100\n",
      "750/750 [==============================] - 0s 30us/sample - loss: 0.9273 - accuracy: 0.5213\n",
      "Epoch 4/100\n",
      "750/750 [==============================] - 0s 28us/sample - loss: 0.8627 - accuracy: 0.5400\n",
      "Epoch 5/100\n",
      "750/750 [==============================] - 0s 29us/sample - loss: 0.8150 - accuracy: 0.5493\n",
      "Epoch 6/100\n",
      "750/750 [==============================] - 0s 27us/sample - loss: 0.7771 - accuracy: 0.5707\n",
      "Epoch 7/100\n",
      "750/750 [==============================] - 0s 29us/sample - loss: 0.7463 - accuracy: 0.5827\n",
      "Epoch 8/100\n",
      "750/750 [==============================] - 0s 29us/sample - loss: 0.7208 - accuracy: 0.5920\n",
      "Epoch 9/100\n",
      "750/750 [==============================] - 0s 27us/sample - loss: 0.6984 - accuracy: 0.6040\n",
      "Epoch 10/100\n",
      "750/750 [==============================] - 0s 26us/sample - loss: 0.6790 - accuracy: 0.6173\n",
      "Epoch 11/100\n",
      "750/750 [==============================] - 0s 27us/sample - loss: 0.6616 - accuracy: 0.6253\n",
      "Epoch 12/100\n",
      "750/750 [==============================] - 0s 28us/sample - loss: 0.6458 - accuracy: 0.6373\n",
      "Epoch 13/100\n",
      "750/750 [==============================] - 0s 28us/sample - loss: 0.6309 - accuracy: 0.6533\n",
      "Epoch 14/100\n",
      "750/750 [==============================] - 0s 26us/sample - loss: 0.6172 - accuracy: 0.6573\n",
      "Epoch 15/100\n",
      "750/750 [==============================] - 0s 31us/sample - loss: 0.6038 - accuracy: 0.6667\n",
      "Epoch 16/100\n",
      "750/750 [==============================] - 0s 27us/sample - loss: 0.5908 - accuracy: 0.6760\n",
      "Epoch 17/100\n",
      "750/750 [==============================] - 0s 26us/sample - loss: 0.5789 - accuracy: 0.6800\n",
      "Epoch 18/100\n",
      "750/750 [==============================] - 0s 29us/sample - loss: 0.5675 - accuracy: 0.6880\n",
      "Epoch 19/100\n",
      "750/750 [==============================] - 0s 27us/sample - loss: 0.5569 - accuracy: 0.6947\n",
      "Epoch 20/100\n",
      "750/750 [==============================] - 0s 25us/sample - loss: 0.5465 - accuracy: 0.6987\n",
      "Epoch 21/100\n",
      "750/750 [==============================] - 0s 27us/sample - loss: 0.5366 - accuracy: 0.7027\n",
      "Epoch 22/100\n",
      "750/750 [==============================] - 0s 29us/sample - loss: 0.5273 - accuracy: 0.7133\n",
      "Epoch 23/100\n",
      "750/750 [==============================] - 0s 26us/sample - loss: 0.5181 - accuracy: 0.7160\n",
      "Epoch 24/100\n",
      "750/750 [==============================] - 0s 27us/sample - loss: 0.5090 - accuracy: 0.7200\n",
      "Epoch 25/100\n",
      "750/750 [==============================] - 0s 28us/sample - loss: 0.4998 - accuracy: 0.7267\n",
      "Epoch 26/100\n",
      "750/750 [==============================] - 0s 27us/sample - loss: 0.4904 - accuracy: 0.7333\n",
      "Epoch 27/100\n",
      "750/750 [==============================] - 0s 27us/sample - loss: 0.4814 - accuracy: 0.7387\n",
      "Epoch 28/100\n",
      "750/750 [==============================] - 0s 28us/sample - loss: 0.4719 - accuracy: 0.7427\n",
      "Epoch 29/100\n",
      "750/750 [==============================] - 0s 27us/sample - loss: 0.4625 - accuracy: 0.7467\n",
      "Epoch 30/100\n",
      "750/750 [==============================] - 0s 27us/sample - loss: 0.4536 - accuracy: 0.7533\n",
      "Epoch 31/100\n",
      "750/750 [==============================] - 0s 26us/sample - loss: 0.4445 - accuracy: 0.7600\n",
      "Epoch 32/100\n",
      "750/750 [==============================] - 0s 27us/sample - loss: 0.4357 - accuracy: 0.7653\n",
      "Epoch 33/100\n",
      "750/750 [==============================] - 0s 25us/sample - loss: 0.4266 - accuracy: 0.7720\n",
      "Epoch 34/100\n",
      "750/750 [==============================] - 0s 33us/sample - loss: 0.4176 - accuracy: 0.7760\n",
      "Epoch 35/100\n",
      "750/750 [==============================] - 0s 33us/sample - loss: 0.4088 - accuracy: 0.7840\n",
      "Epoch 36/100\n",
      "750/750 [==============================] - 0s 27us/sample - loss: 0.3999 - accuracy: 0.7933\n",
      "Epoch 37/100\n",
      "750/750 [==============================] - 0s 27us/sample - loss: 0.3920 - accuracy: 0.8000\n",
      "Epoch 38/100\n",
      "750/750 [==============================] - 0s 28us/sample - loss: 0.3838 - accuracy: 0.8027\n",
      "Epoch 39/100\n",
      "750/750 [==============================] - 0s 27us/sample - loss: 0.3762 - accuracy: 0.8067\n",
      "Epoch 40/100\n",
      "750/750 [==============================] - 0s 27us/sample - loss: 0.3688 - accuracy: 0.8107\n",
      "Epoch 41/100\n",
      "750/750 [==============================] - 0s 26us/sample - loss: 0.3617 - accuracy: 0.8147\n",
      "Epoch 42/100\n",
      "750/750 [==============================] - 0s 27us/sample - loss: 0.3552 - accuracy: 0.8200\n",
      "Epoch 43/100\n",
      "750/750 [==============================] - 0s 27us/sample - loss: 0.3488 - accuracy: 0.8293\n",
      "Epoch 44/100\n",
      "750/750 [==============================] - 0s 27us/sample - loss: 0.3433 - accuracy: 0.8320\n",
      "Epoch 45/100\n",
      "750/750 [==============================] - 0s 25us/sample - loss: 0.3378 - accuracy: 0.8387\n",
      "Epoch 46/100\n",
      "750/750 [==============================] - 0s 27us/sample - loss: 0.3331 - accuracy: 0.8400\n",
      "Epoch 47/100\n",
      "750/750 [==============================] - 0s 27us/sample - loss: 0.3288 - accuracy: 0.8413\n",
      "Epoch 48/100\n",
      "750/750 [==============================] - 0s 26us/sample - loss: 0.3249 - accuracy: 0.8427\n",
      "Epoch 49/100\n",
      "750/750 [==============================] - 0s 25us/sample - loss: 0.3215 - accuracy: 0.8427\n",
      "Epoch 50/100\n",
      "750/750 [==============================] - 0s 28us/sample - loss: 0.3184 - accuracy: 0.8467\n",
      "Epoch 51/100\n",
      "750/750 [==============================] - 0s 26us/sample - loss: 0.3156 - accuracy: 0.8560\n",
      "Epoch 52/100\n",
      "750/750 [==============================] - 0s 25us/sample - loss: 0.3132 - accuracy: 0.8587\n",
      "Epoch 53/100\n",
      "750/750 [==============================] - 0s 27us/sample - loss: 0.3109 - accuracy: 0.8640\n",
      "Epoch 54/100\n",
      "750/750 [==============================] - 0s 28us/sample - loss: 0.3087 - accuracy: 0.8653\n",
      "Epoch 55/100\n",
      "750/750 [==============================] - 0s 27us/sample - loss: 0.3068 - accuracy: 0.8667\n",
      "Epoch 56/100\n",
      "750/750 [==============================] - 0s 27us/sample - loss: 0.3050 - accuracy: 0.8667\n",
      "Epoch 57/100\n",
      "750/750 [==============================] - 0s 25us/sample - loss: 0.3033 - accuracy: 0.8680\n",
      "Epoch 58/100\n",
      "750/750 [==============================] - 0s 25us/sample - loss: 0.3016 - accuracy: 0.8680\n",
      "Epoch 59/100\n",
      "750/750 [==============================] - 0s 26us/sample - loss: 0.3000 - accuracy: 0.8680\n",
      "Epoch 60/100\n",
      "750/750 [==============================] - 0s 27us/sample - loss: 0.2986 - accuracy: 0.8707\n",
      "Epoch 61/100\n",
      "750/750 [==============================] - 0s 25us/sample - loss: 0.2971 - accuracy: 0.8733\n",
      "Epoch 62/100\n",
      "750/750 [==============================] - 0s 25us/sample - loss: 0.2958 - accuracy: 0.8760\n",
      "Epoch 63/100\n",
      "750/750 [==============================] - 0s 28us/sample - loss: 0.2944 - accuracy: 0.8747\n",
      "Epoch 64/100\n",
      "750/750 [==============================] - 0s 27us/sample - loss: 0.2932 - accuracy: 0.8773\n",
      "Epoch 65/100\n",
      "750/750 [==============================] - 0s 27us/sample - loss: 0.2919 - accuracy: 0.8773\n",
      "Epoch 66/100\n",
      "750/750 [==============================] - 0s 25us/sample - loss: 0.2908 - accuracy: 0.8800\n",
      "Epoch 67/100\n",
      "750/750 [==============================] - 0s 28us/sample - loss: 0.2897 - accuracy: 0.8800\n",
      "Epoch 68/100\n",
      "750/750 [==============================] - 0s 27us/sample - loss: 0.2886 - accuracy: 0.8800\n",
      "Epoch 69/100\n",
      "750/750 [==============================] - 0s 25us/sample - loss: 0.2875 - accuracy: 0.8813\n",
      "Epoch 70/100\n",
      "750/750 [==============================] - 0s 27us/sample - loss: 0.2866 - accuracy: 0.8840\n",
      "Epoch 71/100\n",
      "750/750 [==============================] - 0s 28us/sample - loss: 0.2856 - accuracy: 0.8840\n",
      "Epoch 72/100\n",
      "750/750 [==============================] - 0s 25us/sample - loss: 0.2846 - accuracy: 0.8840\n",
      "Epoch 73/100\n",
      "750/750 [==============================] - 0s 27us/sample - loss: 0.2838 - accuracy: 0.8853\n",
      "Epoch 74/100\n",
      "750/750 [==============================] - 0s 25us/sample - loss: 0.2828 - accuracy: 0.8867\n",
      "Epoch 75/100\n",
      "750/750 [==============================] - 0s 28us/sample - loss: 0.2821 - accuracy: 0.8867\n",
      "Epoch 76/100\n",
      "750/750 [==============================] - 0s 27us/sample - loss: 0.2812 - accuracy: 0.8867\n",
      "Epoch 77/100\n",
      "750/750 [==============================] - 0s 27us/sample - loss: 0.2804 - accuracy: 0.8867\n",
      "Epoch 78/100\n"
     ]
    },
    {
     "name": "stdout",
     "output_type": "stream",
     "text": [
      "750/750 [==============================] - 0s 27us/sample - loss: 0.2797 - accuracy: 0.8853\n",
      "Epoch 79/100\n",
      "750/750 [==============================] - 0s 25us/sample - loss: 0.2789 - accuracy: 0.8867\n",
      "Epoch 80/100\n",
      "750/750 [==============================] - 0s 27us/sample - loss: 0.2781 - accuracy: 0.8867\n",
      "Epoch 81/100\n",
      "750/750 [==============================] - 0s 25us/sample - loss: 0.2774 - accuracy: 0.8853\n",
      "Epoch 82/100\n",
      "750/750 [==============================] - 0s 27us/sample - loss: 0.2768 - accuracy: 0.8853\n",
      "Epoch 83/100\n",
      "750/750 [==============================] - 0s 26us/sample - loss: 0.2761 - accuracy: 0.8853\n",
      "Epoch 84/100\n",
      "750/750 [==============================] - 0s 35us/sample - loss: 0.2755 - accuracy: 0.8867\n",
      "Epoch 85/100\n",
      "750/750 [==============================] - 0s 31us/sample - loss: 0.2749 - accuracy: 0.8867\n",
      "Epoch 86/100\n",
      "750/750 [==============================] - 0s 27us/sample - loss: 0.2743 - accuracy: 0.8853\n",
      "Epoch 87/100\n",
      "750/750 [==============================] - 0s 25us/sample - loss: 0.2737 - accuracy: 0.8867\n",
      "Epoch 88/100\n",
      "750/750 [==============================] - 0s 27us/sample - loss: 0.2731 - accuracy: 0.8867\n",
      "Epoch 89/100\n",
      "750/750 [==============================] - 0s 25us/sample - loss: 0.2727 - accuracy: 0.8880\n",
      "Epoch 90/100\n",
      "750/750 [==============================] - 0s 27us/sample - loss: 0.2721 - accuracy: 0.8867\n",
      "Epoch 91/100\n",
      "750/750 [==============================] - 0s 28us/sample - loss: 0.2716 - accuracy: 0.8880\n",
      "Epoch 92/100\n",
      "750/750 [==============================] - 0s 27us/sample - loss: 0.2711 - accuracy: 0.8880\n",
      "Epoch 93/100\n",
      "750/750 [==============================] - 0s 24us/sample - loss: 0.2707 - accuracy: 0.8880\n",
      "Epoch 94/100\n",
      "750/750 [==============================] - 0s 27us/sample - loss: 0.2702 - accuracy: 0.8880\n",
      "Epoch 95/100\n",
      "750/750 [==============================] - 0s 27us/sample - loss: 0.2697 - accuracy: 0.8880\n",
      "Epoch 96/100\n",
      "750/750 [==============================] - 0s 24us/sample - loss: 0.2693 - accuracy: 0.8880\n",
      "Epoch 97/100\n",
      "750/750 [==============================] - 0s 25us/sample - loss: 0.2688 - accuracy: 0.8893\n",
      "Epoch 98/100\n",
      "750/750 [==============================] - 0s 27us/sample - loss: 0.2684 - accuracy: 0.8893\n",
      "Epoch 99/100\n",
      "750/750 [==============================] - 0s 27us/sample - loss: 0.2680 - accuracy: 0.8907\n",
      "Epoch 100/100\n",
      "750/750 [==============================] - 0s 25us/sample - loss: 0.2677 - accuracy: 0.8907\n"
     ]
    }
   ],
   "source": [
    "# Training the model with the nonlinear data\n",
    "model_moon = nn_model.fit(X_moon_train_scaled, y_moon_train, epochs=100, shuffle=True)"
   ]
  },
  {
   "cell_type": "code",
   "execution_count": 18,
   "metadata": {},
   "outputs": [
    {
     "data": {
      "text/plain": [
       "<matplotlib.axes._subplots.AxesSubplot at 0x2b1ab4a6408>"
      ]
     },
     "execution_count": 18,
     "metadata": {},
     "output_type": "execute_result"
    },
    {
     "data": {
      "image/png": "[encoded data removed]",
      "text/plain": [
       "<Figure size 432x288 with 1 Axes>"
      ]
     },
     "metadata": {
      "needs_background": "light"
     },
     "output_type": "display_data"
    }
   ],
   "source": [
    "# Create a DataFrame containing training history\n",
    "history_df = pd.DataFrame(model_moon.history, index=range(1,len(model_moon.history[\"loss\"])+1))\n",
    "\n",
    "# Plot the loss\n",
    "history_df.plot(y=\"loss\")"
   ]
  },
  {
   "cell_type": "code",
   "execution_count": 19,
   "metadata": {},
   "outputs": [
    {
     "data": {
      "text/plain": [
       "<matplotlib.axes._subplots.AxesSubplot at 0x2b1ad2509c8>"
      ]
     },
     "execution_count": 19,
     "metadata": {},
     "output_type": "execute_result"
    },
    {
     "data": {
      "image/png": "[encoded data removed]",
      "text/plain": [
       "<Figure size 432x288 with 1 Axes>"
      ]
     },
     "metadata": {
      "needs_background": "light"
     },
     "output_type": "display_data"
    }
   ],
   "source": [
    "# Plot the loss\n",
    "history_df.plot(y=\"accuracy\")"
   ]
  },
  {
   "cell_type": "code",
   "execution_count": 20,
   "metadata": {},
   "outputs": [],
   "source": [
    "# Generate our new Sequential model\n",
    "new_model = tf.keras.models.Sequential()"
   ]
  },
  {
   "cell_type": "code",
   "execution_count": 21,
   "metadata": {},
   "outputs": [],
   "source": [
    "# Add the input and hidden layer\n",
    "number_inputs = 2\n",
    "number_hidden_nodes = 6\n",
    "\n",
    "new_model.add(tf.keras.layers.Dense(units=number_hidden_nodes, activation=\"relu\", input_dim=number_inputs))\n",
    "\n",
    "# Add the output layer that uses a probability activation function\n",
    "new_model.add(tf.keras.layers.Dense(units=1, activation=\"sigmoid\"))"
   ]
  },
  {
   "cell_type": "code",
   "execution_count": 22,
   "metadata": {},
   "outputs": [
    {
     "name": "stdout",
     "output_type": "stream",
     "text": [
      "Train on 750 samples\n",
      "Epoch 1/100\n",
      "750/750 [==============================] - 0s 551us/sample - loss: 0.6324 - accuracy: 0.8013\n",
      "Epoch 2/100\n",
      "750/750 [==============================] - 0s 28us/sample - loss: 0.6014 - accuracy: 0.8133\n",
      "Epoch 3/100\n",
      "750/750 [==============================] - 0s 27us/sample - loss: 0.5713 - accuracy: 0.8213\n",
      "Epoch 4/100\n",
      "750/750 [==============================] - 0s 26us/sample - loss: 0.5421 - accuracy: 0.8333\n",
      "Epoch 5/100\n",
      "750/750 [==============================] - 0s 29us/sample - loss: 0.5127 - accuracy: 0.8373\n",
      "Epoch 6/100\n",
      "750/750 [==============================] - 0s 28us/sample - loss: 0.4845 - accuracy: 0.8480\n",
      "Epoch 7/100\n",
      "750/750 [==============================] - 0s 26us/sample - loss: 0.4579 - accuracy: 0.8600\n",
      "Epoch 8/100\n",
      "750/750 [==============================] - 0s 29us/sample - loss: 0.4331 - accuracy: 0.8533\n",
      "Epoch 9/100\n",
      "750/750 [==============================] - 0s 28us/sample - loss: 0.4096 - accuracy: 0.8493\n",
      "Epoch 10/100\n",
      "750/750 [==============================] - 0s 28us/sample - loss: 0.3881 - accuracy: 0.8533\n",
      "Epoch 11/100\n",
      "750/750 [==============================] - 0s 29us/sample - loss: 0.3690 - accuracy: 0.8707\n",
      "Epoch 12/100\n",
      "750/750 [==============================] - 0s 29us/sample - loss: 0.3521 - accuracy: 0.8747\n",
      "Epoch 13/100\n",
      "750/750 [==============================] - 0s 28us/sample - loss: 0.3377 - accuracy: 0.8773\n",
      "Epoch 14/100\n",
      "750/750 [==============================] - 0s 28us/sample - loss: 0.3249 - accuracy: 0.8840\n",
      "Epoch 15/100\n",
      "750/750 [==============================] - 0s 29us/sample - loss: 0.3140 - accuracy: 0.8853\n",
      "Epoch 16/100\n",
      "750/750 [==============================] - 0s 27us/sample - loss: 0.3048 - accuracy: 0.8880\n",
      "Epoch 17/100\n",
      "750/750 [==============================] - 0s 28us/sample - loss: 0.2969 - accuracy: 0.8867\n",
      "Epoch 18/100\n",
      "750/750 [==============================] - 0s 30us/sample - loss: 0.2900 - accuracy: 0.8867\n",
      "Epoch 19/100\n",
      "750/750 [==============================] - 0s 29us/sample - loss: 0.2845 - accuracy: 0.8867\n",
      "Epoch 20/100\n",
      "750/750 [==============================] - 0s 28us/sample - loss: 0.2793 - accuracy: 0.8880\n",
      "Epoch 21/100\n",
      "750/750 [==============================] - 0s 39us/sample - loss: 0.2749 - accuracy: 0.8893\n",
      "Epoch 22/100\n",
      "750/750 [==============================] - 0s 36us/sample - loss: 0.2710 - accuracy: 0.8893\n",
      "Epoch 23/100\n",
      "750/750 [==============================] - 0s 37us/sample - loss: 0.2679 - accuracy: 0.8920\n",
      "Epoch 24/100\n",
      "750/750 [==============================] - 0s 40us/sample - loss: 0.2650 - accuracy: 0.8907\n",
      "Epoch 25/100\n",
      "750/750 [==============================] - 0s 28us/sample - loss: 0.2626 - accuracy: 0.8907\n",
      "Epoch 26/100\n",
      "750/750 [==============================] - 0s 36us/sample - loss: 0.2604 - accuracy: 0.8920\n",
      "Epoch 27/100\n",
      "750/750 [==============================] - 0s 30us/sample - loss: 0.2583 - accuracy: 0.8920\n",
      "Epoch 28/100\n",
      "750/750 [==============================] - 0s 28us/sample - loss: 0.2567 - accuracy: 0.8920\n",
      "Epoch 29/100\n",
      "750/750 [==============================] - 0s 29us/sample - loss: 0.2551 - accuracy: 0.8920\n",
      "Epoch 30/100\n",
      "750/750 [==============================] - 0s 29us/sample - loss: 0.2537 - accuracy: 0.8920\n",
      "Epoch 31/100\n",
      "750/750 [==============================] - 0s 36us/sample - loss: 0.2525 - accuracy: 0.8920\n",
      "Epoch 32/100\n",
      "750/750 [==============================] - 0s 33us/sample - loss: 0.2515 - accuracy: 0.8920\n",
      "Epoch 33/100\n",
      "750/750 [==============================] - 0s 28us/sample - loss: 0.2504 - accuracy: 0.8920\n",
      "Epoch 34/100\n",
      "750/750 [==============================] - 0s 27us/sample - loss: 0.2494 - accuracy: 0.8920\n",
      "Epoch 35/100\n",
      "750/750 [==============================] - 0s 27us/sample - loss: 0.2485 - accuracy: 0.8920\n",
      "Epoch 36/100\n",
      "750/750 [==============================] - 0s 27us/sample - loss: 0.2478 - accuracy: 0.8920\n",
      "Epoch 37/100\n",
      "750/750 [==============================] - 0s 28us/sample - loss: 0.2469 - accuracy: 0.8920\n",
      "Epoch 38/100\n",
      "750/750 [==============================] - 0s 26us/sample - loss: 0.2461 - accuracy: 0.8920\n",
      "Epoch 39/100\n",
      "750/750 [==============================] - 0s 29us/sample - loss: 0.2454 - accuracy: 0.8920\n",
      "Epoch 40/100\n",
      "750/750 [==============================] - 0s 27us/sample - loss: 0.2448 - accuracy: 0.8920\n",
      "Epoch 41/100\n",
      "750/750 [==============================] - 0s 29us/sample - loss: 0.2441 - accuracy: 0.8920\n",
      "Epoch 42/100\n",
      "750/750 [==============================] - 0s 31us/sample - loss: 0.2435 - accuracy: 0.8920\n",
      "Epoch 43/100\n",
      "750/750 [==============================] - 0s 28us/sample - loss: 0.2429 - accuracy: 0.8920\n",
      "Epoch 44/100\n",
      "750/750 [==============================] - 0s 27us/sample - loss: 0.2423 - accuracy: 0.8920\n",
      "Epoch 45/100\n",
      "750/750 [==============================] - 0s 28us/sample - loss: 0.2416 - accuracy: 0.8933\n",
      "Epoch 46/100\n",
      "750/750 [==============================] - 0s 27us/sample - loss: 0.2411 - accuracy: 0.8933\n",
      "Epoch 47/100\n",
      "750/750 [==============================] - 0s 27us/sample - loss: 0.2403 - accuracy: 0.8933\n",
      "Epoch 48/100\n",
      "750/750 [==============================] - 0s 27us/sample - loss: 0.2398 - accuracy: 0.8947\n",
      "Epoch 49/100\n",
      "750/750 [==============================] - 0s 29us/sample - loss: 0.2393 - accuracy: 0.8933\n",
      "Epoch 50/100\n",
      "750/750 [==============================] - 0s 28us/sample - loss: 0.2391 - accuracy: 0.8960\n",
      "Epoch 51/100\n",
      "750/750 [==============================] - 0s 27us/sample - loss: 0.2381 - accuracy: 0.8947\n",
      "Epoch 52/100\n",
      "750/750 [==============================] - 0s 27us/sample - loss: 0.2376 - accuracy: 0.8947\n",
      "Epoch 53/100\n",
      "750/750 [==============================] - 0s 27us/sample - loss: 0.2374 - accuracy: 0.8947\n",
      "Epoch 54/100\n",
      "750/750 [==============================] - 0s 28us/sample - loss: 0.2367 - accuracy: 0.8960\n",
      "Epoch 55/100\n",
      "750/750 [==============================] - 0s 28us/sample - loss: 0.2361 - accuracy: 0.8960\n",
      "Epoch 56/100\n",
      "750/750 [==============================] - 0s 26us/sample - loss: 0.2357 - accuracy: 0.8960\n",
      "Epoch 57/100\n",
      "750/750 [==============================] - 0s 27us/sample - loss: 0.2352 - accuracy: 0.8960\n",
      "Epoch 58/100\n",
      "750/750 [==============================] - 0s 26us/sample - loss: 0.2348 - accuracy: 0.8960\n",
      "Epoch 59/100\n",
      "750/750 [==============================] - 0s 27us/sample - loss: 0.2344 - accuracy: 0.8960\n",
      "Epoch 60/100\n",
      "750/750 [==============================] - 0s 28us/sample - loss: 0.2339 - accuracy: 0.8973\n",
      "Epoch 61/100\n",
      "750/750 [==============================] - 0s 27us/sample - loss: 0.2334 - accuracy: 0.8973\n",
      "Epoch 62/100\n",
      "750/750 [==============================] - 0s 28us/sample - loss: 0.2329 - accuracy: 0.8960\n",
      "Epoch 63/100\n",
      "750/750 [==============================] - 0s 28us/sample - loss: 0.2325 - accuracy: 0.8973\n",
      "Epoch 64/100\n",
      "750/750 [==============================] - 0s 26us/sample - loss: 0.2322 - accuracy: 0.8973\n",
      "Epoch 65/100\n",
      "750/750 [==============================] - 0s 27us/sample - loss: 0.2317 - accuracy: 0.8973\n",
      "Epoch 66/100\n",
      "750/750 [==============================] - 0s 29us/sample - loss: 0.2313 - accuracy: 0.8973\n",
      "Epoch 67/100\n",
      "750/750 [==============================] - 0s 26us/sample - loss: 0.2309 - accuracy: 0.8973\n",
      "Epoch 68/100\n",
      "750/750 [==============================] - 0s 26us/sample - loss: 0.2307 - accuracy: 0.8987\n",
      "Epoch 69/100\n",
      "750/750 [==============================] - 0s 28us/sample - loss: 0.2303 - accuracy: 0.8987\n",
      "Epoch 70/100\n",
      "750/750 [==============================] - 0s 29us/sample - loss: 0.2300 - accuracy: 0.8987\n",
      "Epoch 71/100\n",
      "750/750 [==============================] - 0s 25us/sample - loss: 0.2294 - accuracy: 0.8987\n",
      "Epoch 72/100\n",
      "750/750 [==============================] - 0s 27us/sample - loss: 0.2290 - accuracy: 0.9013\n",
      "Epoch 73/100\n",
      "750/750 [==============================] - 0s 36us/sample - loss: 0.2288 - accuracy: 0.9013\n",
      "Epoch 74/100\n",
      "750/750 [==============================] - 0s 34us/sample - loss: 0.2283 - accuracy: 0.9013\n",
      "Epoch 75/100\n",
      "750/750 [==============================] - 0s 26us/sample - loss: 0.2281 - accuracy: 0.9013\n",
      "Epoch 76/100\n",
      "750/750 [==============================] - 0s 26us/sample - loss: 0.2277 - accuracy: 0.9013\n",
      "Epoch 77/100\n",
      "750/750 [==============================] - 0s 25us/sample - loss: 0.2274 - accuracy: 0.9013\n",
      "Epoch 78/100\n"
     ]
    },
    {
     "name": "stdout",
     "output_type": "stream",
     "text": [
      "750/750 [==============================] - 0s 28us/sample - loss: 0.2270 - accuracy: 0.9013\n",
      "Epoch 79/100\n",
      "750/750 [==============================] - 0s 25us/sample - loss: 0.2268 - accuracy: 0.9013\n",
      "Epoch 80/100\n",
      "750/750 [==============================] - 0s 27us/sample - loss: 0.2264 - accuracy: 0.9013\n",
      "Epoch 81/100\n",
      "750/750 [==============================] - 0s 27us/sample - loss: 0.2261 - accuracy: 0.9013\n",
      "Epoch 82/100\n",
      "750/750 [==============================] - 0s 28us/sample - loss: 0.2258 - accuracy: 0.9013\n",
      "Epoch 83/100\n",
      "750/750 [==============================] - 0s 25us/sample - loss: 0.2255 - accuracy: 0.9013\n",
      "Epoch 84/100\n",
      "750/750 [==============================] - 0s 27us/sample - loss: 0.2252 - accuracy: 0.9027\n",
      "Epoch 85/100\n",
      "750/750 [==============================] - 0s 27us/sample - loss: 0.2249 - accuracy: 0.9027\n",
      "Epoch 86/100\n",
      "750/750 [==============================] - 0s 26us/sample - loss: 0.2246 - accuracy: 0.9027\n",
      "Epoch 87/100\n",
      "750/750 [==============================] - 0s 27us/sample - loss: 0.2244 - accuracy: 0.9027\n",
      "Epoch 88/100\n",
      "750/750 [==============================] - 0s 27us/sample - loss: 0.2241 - accuracy: 0.9027\n",
      "Epoch 89/100\n",
      "750/750 [==============================] - 0s 25us/sample - loss: 0.2238 - accuracy: 0.9027\n",
      "Epoch 90/100\n",
      "750/750 [==============================] - 0s 26us/sample - loss: 0.2235 - accuracy: 0.9027\n",
      "Epoch 91/100\n",
      "750/750 [==============================] - 0s 27us/sample - loss: 0.2233 - accuracy: 0.9027\n",
      "Epoch 92/100\n",
      "750/750 [==============================] - 0s 25us/sample - loss: 0.2230 - accuracy: 0.9027\n",
      "Epoch 93/100\n",
      "750/750 [==============================] - 0s 27us/sample - loss: 0.2227 - accuracy: 0.9013\n",
      "Epoch 94/100\n",
      "750/750 [==============================] - 0s 28us/sample - loss: 0.2225 - accuracy: 0.9013\n",
      "Epoch 95/100\n",
      "750/750 [==============================] - 0s 27us/sample - loss: 0.2222 - accuracy: 0.9027\n",
      "Epoch 96/100\n",
      "750/750 [==============================] - 0s 37us/sample - loss: 0.2220 - accuracy: 0.9013\n",
      "Epoch 97/100\n",
      "750/750 [==============================] - 0s 41us/sample - loss: 0.2217 - accuracy: 0.9013\n",
      "Epoch 98/100\n",
      "750/750 [==============================] - 0s 35us/sample - loss: 0.2216 - accuracy: 0.9027\n",
      "Epoch 99/100\n",
      "750/750 [==============================] - 0s 29us/sample - loss: 0.2212 - accuracy: 0.9013\n",
      "Epoch 100/100\n",
      "750/750 [==============================] - 0s 28us/sample - loss: 0.2211 - accuracy: 0.9000\n"
     ]
    }
   ],
   "source": [
    "# Compile the Sequential model together and customize metrics\n",
    "new_model.compile(loss=\"binary_crossentropy\", optimizer=\"adam\", metrics=[\"accuracy\"])\n",
    "\n",
    "# Fit the model to the training data\n",
    "new_fit_model = new_model.fit(X_moon_train_scaled, y_moon_train, epochs=100, shuffle=True)"
   ]
  },
  {
   "cell_type": "code",
   "execution_count": null,
   "metadata": {},
   "outputs": [],
   "source": []
  }
 ],
 "metadata": {
  "kernelspec": {
   "display_name": "mlenv",
   "language": "python",
   "name": "mlenv"
  },
  "language_info": {
   "codemirror_mode": {
    "name": "ipython",
    "version": 3
   },
   "file_extension": ".py",
   "mimetype": "text/x-python",
   "name": "python",
   "nbconvert_exporter": "python",
   "pygments_lexer": "ipython3",
   "version": "3.7.7"
  }
 },
 "nbformat": 4,
 "nbformat_minor": 4
}
